{
  "nbformat": 4,
  "nbformat_minor": 0,
  "metadata": {
    "colab": {
      "provenance": [],
      "authorship_tag": "ABX9TyPN5NlYkI/F2D3syNiRDUUA",
      "include_colab_link": true
    },
    "kernelspec": {
      "name": "python3",
      "display_name": "Python 3"
    },
    "language_info": {
      "name": "python"
    }
  },
  "cells": [
    {
      "cell_type": "markdown",
      "metadata": {
        "id": "view-in-github",
        "colab_type": "text"
      },
      "source": [
        "<a href=\"https://colab.research.google.com/github/JoshuaUgarte/CLASETHC/blob/Trabajo-en-clase/EXAM.ipynb\" target=\"_parent\"><img src=\"https://colab.research.google.com/assets/colab-badge.svg\" alt=\"Open In Colab\"/></a>"
      ]
    },
    {
      "cell_type": "code",
      "source": [
        "#CALCULAR LA TRAZA DE UNA MATRIZ 3X3\n",
        "import numpy as np\n",
        "\n",
        "def calcular_traza():\n",
        "    # primero creamos una matriz 3x3 llena de ceros\n",
        "    matriz = np.zeros((3, 3))\n",
        "\n",
        "    # solicitamos al usuario que introduzca los valores de la matriz\n",
        "    print(\"Hola! Vamos a calcular la traza de una matriz 3x3.\")\n",
        "    for fila in range(3):\n",
        "        for columna in range(3):\n",
        "            valor = float(input(f\"Ingrese el valor en la posición ({fila + 1}, {columna + 1}): \"))\n",
        "            matriz[fila, columna] = valor\n",
        "\n",
        "    # aqui se calcula la traza de la matriz\n",
        "    traza = np.trace(matriz)\n",
        "\n",
        "    # se imprime la matriz\n",
        "    print(\"La matriz que has ingresado es la siguiente:\")\n",
        "    print(matriz)\n",
        "\n",
        "    # se imrpime la traza\n",
        "    print(f\"La traza de la matriz es: {traza}\")\n",
        "\n",
        "# llamamos a la función\n",
        "calcular_traza()\n"
      ],
      "metadata": {
        "colab": {
          "base_uri": "https://localhost:8080/"
        },
        "id": "1eoc9-3kzFhB",
        "outputId": "a0e7286e-d725-446a-9726-ee563e08cd31"
      },
      "execution_count": 7,
      "outputs": [
        {
          "output_type": "stream",
          "name": "stdout",
          "text": [
            "Hola! Vamos a calcular la traza de una matriz 3x3.\n",
            "Ingrese el valor en la posición (1, 1): 1\n",
            "Ingrese el valor en la posición (1, 2): 2\n",
            "Ingrese el valor en la posición (1, 3): 3\n",
            "Ingrese el valor en la posición (2, 1): 1\n",
            "Ingrese el valor en la posición (2, 2): 2\n",
            "Ingrese el valor en la posición (2, 3): 3\n",
            "Ingrese el valor en la posición (3, 1): 1\n",
            "Ingrese el valor en la posición (3, 2): 2\n",
            "Ingrese el valor en la posición (3, 3): 3\n",
            "La matriz que has ingresado es la siguiente:\n",
            "[[1. 2. 3.]\n",
            " [1. 2. 3.]\n",
            " [1. 2. 3.]]\n",
            "La traza de la matriz es: 6.0\n"
          ]
        }
      ]
    },
    {
      "cell_type": "code",
      "source": [
        "#ENCONTRAR EL MAXIMO Y MINIMO DE UNA FUNCION\n",
        "import numpy as np\n",
        "\n",
        "def encontrar_maximo_minimo():\n",
        "    # aqui se crea una matriz vacía de 3x3\n",
        "    matriz = np.zeros((3, 3))\n",
        "\n",
        "    # se solicita al usuario que ingrese los valores de la matriz\n",
        "    for fila in range(3):\n",
        "        for columna in range(3):\n",
        "            valor = float(input(f\"Por favor, ingresa el valor en la posición ({fila+1}, {columna+1}): \"))\n",
        "            matriz[fila, columna] = valor\n",
        "\n",
        "    # encontramos el valor máximo y mínimo en la matriz\n",
        "    maximo = np.max(matriz)\n",
        "    minimo = np.min(matriz)\n",
        "\n",
        "    print(\"La matriz que has ingresado es la siguiente:\")\n",
        "    print(matriz)\n",
        "    print(f\"El valor máximo en la matriz es: {maximo}\")\n",
        "    print(f\"El valor mínimo en la matriz es: {minimo}\")\n",
        "\n",
        "# se llama a la función\n",
        "encontrar_maximo_minimo()\n"
      ],
      "metadata": {
        "colab": {
          "base_uri": "https://localhost:8080/"
        },
        "id": "-4-WwCb_0rDF",
        "outputId": "0e13273d-987f-4c9d-e13c-0e86c64b437f"
      },
      "execution_count": 9,
      "outputs": [
        {
          "output_type": "stream",
          "name": "stdout",
          "text": [
            "Por favor, ingresa el valor en la posición (1, 1): 1\n",
            "Por favor, ingresa el valor en la posición (1, 2): 2\n",
            "Por favor, ingresa el valor en la posición (1, 3): 3\n",
            "Por favor, ingresa el valor en la posición (2, 1): 1\n",
            "Por favor, ingresa el valor en la posición (2, 2): 2\n",
            "Por favor, ingresa el valor en la posición (2, 3): 3\n",
            "Por favor, ingresa el valor en la posición (3, 1): 1\n",
            "Por favor, ingresa el valor en la posición (3, 2): 2\n",
            "Por favor, ingresa el valor en la posición (3, 3): 3\n",
            "La matriz que has ingresado es la siguiente:\n",
            "[[1. 2. 3.]\n",
            " [1. 2. 3.]\n",
            " [1. 2. 3.]]\n",
            "El valor máximo en la matriz es: 3.0\n",
            "El valor mínimo en la matriz es: 1.0\n"
          ]
        }
      ]
    },
    {
      "cell_type": "code",
      "source": [
        "#CALCULAR LA POTENCIA DE UNA MATRIZ\n",
        "import numpy as np\n",
        "\n",
        "def calcular_potencia_de_matriz():\n",
        "    # primero creamos una matriz vacía de 3x3\n",
        "    matriz = np.zeros((3, 3))\n",
        "\n",
        "    # le pedimos al usuario que ingrese los valores de la matriz\n",
        "    for fila in range(3):\n",
        "        for columna in range(3):\n",
        "            valor = float(input(f\"Por favor, ingresa el valor en la posición ({fila+1}, {columna+1}): \"))\n",
        "            matriz[fila, columna] = valor\n",
        "\n",
        "    # le edimos al usuario que ingrese la potencia deseada\n",
        "    potencia = int(input(\"Por favor, introduce la potencia a la que deseas elevar la matriz: \"))\n",
        "\n",
        "    # ahora calculamos la matriz elevada a la potencia requerida\n",
        "    resultado = np.linalg.matrix_power(matriz, potencia)\n",
        "\n",
        "    print(\"La matriz que has ingresado es la siguiente:\")\n",
        "    print(matriz)\n",
        "    print(f\"La matriz elevada a la potencia {potencia} es la siguiente:\")\n",
        "    print(resultado)\n",
        "\n",
        "# para concluir llamamos a la función\n",
        "calcular_potencia_de_matriz()\n"
      ],
      "metadata": {
        "colab": {
          "base_uri": "https://localhost:8080/"
        },
        "id": "2Yk7MRl13aGk",
        "outputId": "77ea12f0-2fb7-48d2-a379-f8716cc4a098"
      },
      "execution_count": 12,
      "outputs": [
        {
          "output_type": "stream",
          "name": "stdout",
          "text": [
            "Por favor, ingresa el valor en la posición (1, 1): 1\n",
            "Por favor, ingresa el valor en la posición (1, 2): 2\n",
            "Por favor, ingresa el valor en la posición (1, 3): 3\n",
            "Por favor, ingresa el valor en la posición (2, 1): 1\n",
            "Por favor, ingresa el valor en la posición (2, 2): 2\n",
            "Por favor, ingresa el valor en la posición (2, 3): 3\n",
            "Por favor, ingresa el valor en la posición (3, 1): 1\n",
            "Por favor, ingresa el valor en la posición (3, 2): 2\n",
            "Por favor, ingresa el valor en la posición (3, 3): 3\n",
            "Por favor, introduce la potencia a la que deseas elevar la matriz: 2\n",
            "La matriz que has ingresado es la siguiente:\n",
            "[[1. 2. 3.]\n",
            " [1. 2. 3.]\n",
            " [1. 2. 3.]]\n",
            "La matriz elevada a la potencia 2 es la siguiente:\n",
            "[[ 6. 12. 18.]\n",
            " [ 6. 12. 18.]\n",
            " [ 6. 12. 18.]]\n"
          ]
        }
      ]
    }
  ]
}