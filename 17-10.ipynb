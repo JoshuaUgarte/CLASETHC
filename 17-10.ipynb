{
  "nbformat": 4,
  "nbformat_minor": 0,
  "metadata": {
    "colab": {
      "provenance": [],
      "authorship_tag": "ABX9TyOBprgQla/77u4tNtvdPzM4",
      "include_colab_link": true
    },
    "kernelspec": {
      "name": "python3",
      "display_name": "Python 3"
    },
    "language_info": {
      "name": "python"
    }
  },
  "cells": [
    {
      "cell_type": "markdown",
      "metadata": {
        "id": "view-in-github",
        "colab_type": "text"
      },
      "source": [
        "<a href=\"https://colab.research.google.com/github/JoshuaUgarte/CLASETHC/blob/Trabajo-en-clase/17-10.ipynb\" target=\"_parent\"><img src=\"https://colab.research.google.com/assets/colab-badge.svg\" alt=\"Open In Colab\"/></a>"
      ]
    },
    {
      "cell_type": "code",
      "execution_count": null,
      "metadata": {
        "colab": {
          "base_uri": "https://localhost:8080/"
        },
        "id": "6-n-BI8-5N9e",
        "outputId": "ac6c7a40-4b16-41d2-e879-1179cae57776"
      },
      "outputs": [
        {
          "output_type": "stream",
          "name": "stdout",
          "text": [
            "3\n"
          ]
        }
      ],
      "source": [
        "A = [[1,2,3],[4,5,6],[7,8,9]]\n",
        "B = [[10,11,12],[13,14,15],[16,17,18]]\n",
        "print(A[0][2])"
      ]
    },
    {
      "cell_type": "code",
      "source": [
        "A = [[1,2,3],[4,5,6],[7,8,9]]\n",
        "B = [[10,11,12],[13,14,15],[16,17,18]]\n",
        "for i in range (len(A)):\n",
        "\n",
        "\n",
        "  print(A[0][i])\n",
        "  print(A[1][i])\n",
        "  print(A[2][i])\n",
        "\n"
      ],
      "metadata": {
        "colab": {
          "base_uri": "https://localhost:8080/"
        },
        "id": "5DLJlY8P6amo",
        "outputId": "323c0568-b555-4cb1-b8db-2fccfc903de7"
      },
      "execution_count": null,
      "outputs": [
        {
          "output_type": "stream",
          "name": "stdout",
          "text": [
            "1\n",
            "4\n",
            "7\n",
            "2\n",
            "5\n",
            "8\n",
            "3\n",
            "6\n",
            "9\n"
          ]
        }
      ]
    },
    {
      "cell_type": "code",
      "source": [
        "A = [[1,2,3],[4,5,6],[7,8,9]]\n",
        "B = [[10,11,12],[13,14,15],[16,17,18]]\n",
        "for i in range (len(A)):\n",
        "  for j in range (len(A)):\n",
        "    print(A[i][j])\n"
      ],
      "metadata": {
        "colab": {
          "base_uri": "https://localhost:8080/"
        },
        "id": "5psOzRbQ7BYC",
        "outputId": "eeac1cc1-f0bf-4345-b398-2acfe9ff2afc"
      },
      "execution_count": null,
      "outputs": [
        {
          "output_type": "stream",
          "name": "stdout",
          "text": [
            "1\n",
            "2\n",
            "3\n",
            "4\n",
            "5\n",
            "6\n",
            "7\n",
            "8\n",
            "9\n"
          ]
        }
      ]
    },
    {
      "cell_type": "code",
      "source": [
        "A = [[1,2,3],[4,5,6],[7,8,9]]\n",
        "B = [[10,11,12],[13,14,15],[16,17,18]]\n",
        "for i in range (len(A)):\n",
        "  for j in range (len(A)):\n",
        "    print(A[i][j]+B[i][j])\n"
      ],
      "metadata": {
        "colab": {
          "base_uri": "https://localhost:8080/"
        },
        "id": "04VuvxE6_pIh",
        "outputId": "2f27b736-f6bd-4a79-e6c8-a286d4986ab6"
      },
      "execution_count": null,
      "outputs": [
        {
          "output_type": "stream",
          "name": "stdout",
          "text": [
            "11\n",
            "13\n",
            "15\n",
            "17\n",
            "19\n",
            "21\n",
            "23\n",
            "25\n",
            "27\n"
          ]
        }
      ]
    },
    {
      "cell_type": "code",
      "source": [
        "A = [[1,2,3],\n",
        "    [4,5,6],\n",
        "    [7,8,9]]\n",
        "B = [[10,11,12],\n",
        "     [13,14,15],\n",
        "     [16,17,18]]\n",
        "\n",
        "for i in range (len(A)):\n",
        "  for j in range (len(A)):\n",
        "    print(A[i][j])\n",
        "#por columnas\n",
        "for j in range (len(A)):\n",
        "  for i in range (len(A)):\n",
        "    print(A[i][j])"
      ],
      "metadata": {
        "colab": {
          "base_uri": "https://localhost:8080/"
        },
        "id": "GSfONu6G7qHZ",
        "outputId": "5d2ca5b7-3ab8-4bcd-e7ba-a8efb72dfec6"
      },
      "execution_count": null,
      "outputs": [
        {
          "output_type": "stream",
          "name": "stdout",
          "text": [
            "1\n",
            "2\n",
            "3\n",
            "4\n",
            "5\n",
            "6\n",
            "7\n",
            "8\n",
            "9\n",
            "1\n",
            "4\n",
            "7\n",
            "2\n",
            "5\n",
            "8\n",
            "3\n",
            "6\n",
            "9\n"
          ]
        }
      ]
    },
    {
      "cell_type": "code",
      "source": [
        "A = [[1,2,3],\n",
        "    [4,5,6],\n",
        "    [7,8,9]]\n",
        "matrix_length = len(A)\n",
        "\n",
        "#To read the last element from each row.\n",
        "for i in range(matrix_length):\n",
        "\n",
        "    print(A[i][0])\n",
        "    print(A[i][1])\n",
        "    print(A[i][2])"
      ],
      "metadata": {
        "colab": {
          "base_uri": "https://localhost:8080/"
        },
        "id": "rHPCz25h8B4R",
        "outputId": "40748332-6adf-4c9e-c1ca-b92d48438561"
      },
      "execution_count": null,
      "outputs": [
        {
          "output_type": "stream",
          "name": "stdout",
          "text": [
            "1\n",
            "2\n",
            "3\n",
            "4\n",
            "5\n",
            "6\n",
            "7\n",
            "8\n",
            "9\n"
          ]
        }
      ]
    },
    {
      "cell_type": "code",
      "source": [
        "A = [1,3,5,4,8,9,34,15,67]\n",
        "\n",
        "for i in range(len(A)):\n",
        "    for j in range(len(A) - 1):\n",
        "        if A[j] > A[j + 1]:\n",
        "            A[j], A[j + 1] = A[j + 1], A[j]\n",
        "\n",
        "print(A)\n"
      ],
      "metadata": {
        "id": "3r8X7bfGAiza",
        "colab": {
          "base_uri": "https://localhost:8080/"
        },
        "outputId": "b86db10d-3cff-4c41-be75-e615158ecfbf"
      },
      "execution_count": null,
      "outputs": [
        {
          "output_type": "stream",
          "name": "stdout",
          "text": [
            "[1, 3, 4, 5, 8, 9, 15, 34, 67]\n"
          ]
        }
      ]
    },
    {
      "cell_type": "code",
      "source": [
        "A = [1,3,5,4,8,9,34,15,67]\n",
        "\n",
        "for i in range(len(A)):\n",
        "    for j in range(len(A) - 1):\n",
        "        if A[j] < A[j - 1]:\n",
        "            A[j], A[j - 1] = A[j - 1], A[j]\n",
        "\n",
        "print(A)"
      ],
      "metadata": {
        "colab": {
          "base_uri": "https://localhost:8080/"
        },
        "id": "XA-zLLPcFFNF",
        "outputId": "3622d9a0-6306-4e14-9fa4-6acd002d9f03"
      },
      "execution_count": null,
      "outputs": [
        {
          "output_type": "stream",
          "name": "stdout",
          "text": [
            "[3, 4, 5, 8, 9, 15, 34, 67, 1]\n"
          ]
        }
      ]
    },
    {
      "cell_type": "code",
      "source": [
        "A = [4,6,1,8,0]\n",
        "4<6"
      ],
      "metadata": {
        "id": "1rsdDWF2FZX2"
      },
      "execution_count": null,
      "outputs": []
    },
    {
      "cell_type": "code",
      "source": [
        "A = [1,3,5,4,8,9,34,15,67]\n",
        "n = len(A)\n",
        "\n",
        "for i in range(n - 1):\n",
        "    for j in range(n - i - 1):\n",
        "        if A[j] > A[j + 1]:\n",
        "            A[j], A[j + 1] = A[j + 1], A[j]\n",
        "\n",
        "print(A)\n",
        "\n"
      ],
      "metadata": {
        "colab": {
          "base_uri": "https://localhost:8080/"
        },
        "id": "197S1y5xFxxT",
        "outputId": "77c24b76-a4f5-4cee-c579-9910ccd82ebd"
      },
      "execution_count": null,
      "outputs": [
        {
          "output_type": "stream",
          "name": "stdout",
          "text": [
            "[1, 3, 4, 5, 8, 9, 15, 34, 67]\n"
          ]
        }
      ]
    },
    {
      "cell_type": "code",
      "source": [
        "A = [1,3,5,4,8,9,34,15,67]\n",
        "n = len(A)\n",
        "\n",
        "for i in range(n - 1):\n",
        "    for j in range(n - i - 1):\n",
        "        if A[j] < A[j + 1]:\n",
        "            A[j], A[j + 1] = A[j + 1], A[j]\n",
        "\n",
        "print(A)\n"
      ],
      "metadata": {
        "colab": {
          "base_uri": "https://localhost:8080/"
        },
        "id": "ce1h-8D3GZxx",
        "outputId": "63d71ec9-ef73-45c4-cab5-be02ff249ddd"
      },
      "execution_count": null,
      "outputs": [
        {
          "output_type": "stream",
          "name": "stdout",
          "text": [
            "[67, 34, 15, 9, 8, 5, 4, 3, 1]\n"
          ]
        }
      ]
    },
    {
      "cell_type": "code",
      "source": [
        "A = [1,3,5,4,8,9,34,15,67]\n",
        "n = len(A)\n",
        "for i in range(n-1):\n",
        " if A[i] > A[i+1]:\n",
        "    print(A)\n",
        "    aux = A[i+1]\n",
        "    A[i+1] = A[i]\n",
        "    A[i] = aux\n",
        "    print(A)\n",
        "\n"
      ],
      "metadata": {
        "colab": {
          "base_uri": "https://localhost:8080/"
        },
        "id": "VOrsnlSkHFIB",
        "outputId": "6d3d8371-6b4a-455e-e142-b1dd99668457"
      },
      "execution_count": 1,
      "outputs": [
        {
          "output_type": "stream",
          "name": "stdout",
          "text": [
            "[1, 3, 5, 4, 8, 9, 34, 15, 67]\n",
            "[1, 3, 4, 5, 8, 9, 34, 15, 67]\n",
            "[1, 3, 4, 5, 8, 9, 34, 15, 67]\n",
            "[1, 3, 4, 5, 8, 9, 15, 34, 67]\n"
          ]
        }
      ]
    },
    {
      "cell_type": "code",
      "source": [
        "A = [1,3,5,4,8,9,34,15,67]\n",
        "for i in range(len(A)):\n",
        "    for j in range(len(A) - 1):\n",
        "        if A[j] < A[j + 1]:\n",
        "            A[j], A[j + 1] = A[j + 1], A[j]\n",
        "\n",
        "print(A)\n"
      ],
      "metadata": {
        "colab": {
          "base_uri": "https://localhost:8080/"
        },
        "id": "WE_QWeQcFohs",
        "outputId": "dad4ec30-b24e-41eb-837e-37b8e93ea1ef"
      },
      "execution_count": null,
      "outputs": [
        {
          "output_type": "stream",
          "name": "stdout",
          "text": [
            "[67, 34, 15, 9, 8, 5, 4, 3, 1]\n"
          ]
        }
      ]
    }
  ]
}