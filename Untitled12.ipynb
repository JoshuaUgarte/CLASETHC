{
  "nbformat": 4,
  "nbformat_minor": 0,
  "metadata": {
    "colab": {
      "provenance": [],
      "authorship_tag": "ABX9TyO6amp9k6iZF5TatFZLQp6i",
      "include_colab_link": true
    },
    "kernelspec": {
      "name": "python3",
      "display_name": "Python 3"
    },
    "language_info": {
      "name": "python"
    }
  },
  "cells": [
    {
      "cell_type": "markdown",
      "metadata": {
        "id": "view-in-github",
        "colab_type": "text"
      },
      "source": [
        "<a href=\"https://colab.research.google.com/github/JoshuaUgarte/CLASETHC/blob/Trabajo-en-clase/Untitled12.ipynb\" target=\"_parent\"><img src=\"https://colab.research.google.com/assets/colab-badge.svg\" alt=\"Open In Colab\"/></a>"
      ]
    },
    {
      "cell_type": "code",
      "execution_count": 1,
      "metadata": {
        "colab": {
          "base_uri": "https://localhost:8080/"
        },
        "id": "6-n-BI8-5N9e",
        "outputId": "ac6c7a40-4b16-41d2-e879-1179cae57776"
      },
      "outputs": [
        {
          "output_type": "stream",
          "name": "stdout",
          "text": [
            "3\n"
          ]
        }
      ],
      "source": [
        "A = [[1,2,3],[4,5,6],[7,8,9]]\n",
        "B = [[10,11,12],[13,14,15],[16,17,18]]\n",
        "print(A[0][2])"
      ]
    },
    {
      "cell_type": "code",
      "source": [
        "A = [[1,2,3],[4,5,6],[7,8,9]]\n",
        "B = [[10,11,12],[13,14,15],[16,17,18]]\n",
        "for i in range (len(A)):\n",
        "\n",
        "\n",
        "  print(A[0][i])\n",
        "  print(A[1][i])\n",
        "  print(A[2][i])\n",
        "\n"
      ],
      "metadata": {
        "colab": {
          "base_uri": "https://localhost:8080/"
        },
        "id": "5DLJlY8P6amo",
        "outputId": "323c0568-b555-4cb1-b8db-2fccfc903de7"
      },
      "execution_count": 6,
      "outputs": [
        {
          "output_type": "stream",
          "name": "stdout",
          "text": [
            "1\n",
            "4\n",
            "7\n",
            "2\n",
            "5\n",
            "8\n",
            "3\n",
            "6\n",
            "9\n"
          ]
        }
      ]
    },
    {
      "cell_type": "code",
      "source": [
        "A = [[1,2,3],[4,5,6],[7,8,9]]\n",
        "B = [[10,11,12],[13,14,15],[16,17,18]]\n",
        "for i in range (len(A)):\n",
        "  for j in range (len(A)):\n",
        "    print(A[i][j])\n",
        ""
      ],
      "metadata": {
        "colab": {
          "base_uri": "https://localhost:8080/"
        },
        "id": "5psOzRbQ7BYC",
        "outputId": "eeac1cc1-f0bf-4345-b398-2acfe9ff2afc"
      },
      "execution_count": 5,
      "outputs": [
        {
          "output_type": "stream",
          "name": "stdout",
          "text": [
            "1\n",
            "2\n",
            "3\n",
            "4\n",
            "5\n",
            "6\n",
            "7\n",
            "8\n",
            "9\n"
          ]
        }
      ]
    },
    {
      "cell_type": "code",
      "source": [
        "A = [[1,2,3],\n",
        "    [4,5,6],\n",
        "    [7,8,9]]\n",
        "B = [[10,11,12],\n",
        "     [13,14,15],\n",
        "     [16,17,18]]\n",
        "\n",
        "for i in range (len(A)):\n",
        "  for j in range (len(A)):\n",
        "    print(A[i][j])\n",
        "#por columnas\n",
        "for j in range (len(A)):\n",
        "  for i in range (len(A)):\n",
        "    print(A[i][j])"
      ],
      "metadata": {
        "colab": {
          "base_uri": "https://localhost:8080/"
        },
        "id": "GSfONu6G7qHZ",
        "outputId": "5d2ca5b7-3ab8-4bcd-e7ba-a8efb72dfec6"
      },
      "execution_count": 7,
      "outputs": [
        {
          "output_type": "stream",
          "name": "stdout",
          "text": [
            "1\n",
            "2\n",
            "3\n",
            "4\n",
            "5\n",
            "6\n",
            "7\n",
            "8\n",
            "9\n",
            "1\n",
            "4\n",
            "7\n",
            "2\n",
            "5\n",
            "8\n",
            "3\n",
            "6\n",
            "9\n"
          ]
        }
      ]
    },
    {
      "cell_type": "code",
      "source": [
        "A = [[1,2,3],\n",
        "    [4,5,6],\n",
        "    [7,8,9]]\n",
        "matrix_length = len(A)\n",
        "\n",
        "#To read the last element from each row.\n",
        "for i in range(matrix_length):\n",
        "\n",
        "    print(A[i][-1])\n",
        "    print(A[i][-2])\n",
        "    print(A[i][-3])"
      ],
      "metadata": {
        "colab": {
          "base_uri": "https://localhost:8080/"
        },
        "id": "rHPCz25h8B4R",
        "outputId": "dcd895ab-f39f-4102-beaf-09c34cab6043"
      },
      "execution_count": 11,
      "outputs": [
        {
          "output_type": "stream",
          "name": "stdout",
          "text": [
            "3\n",
            "2\n",
            "1\n",
            "6\n",
            "5\n",
            "4\n",
            "9\n",
            "8\n",
            "7\n"
          ]
        }
      ]
    }
  ]
}